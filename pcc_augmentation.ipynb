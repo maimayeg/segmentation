{
 "cells": [
  {
   "cell_type": "code",
   "execution_count": 13,
   "id": "cb0370b0-b556-42b3-8457-da12235be08f",
   "metadata": {},
   "outputs": [
    {
     "name": "stderr",
     "output_type": "stream",
     "text": [
      "[nltk_data] Downloading package punkt to\n",
      "[nltk_data]     /home/users/mabdelaal/nltk_data...\n",
      "[nltk_data]   Package punkt is already up-to-date!\n",
      "[nltk_data] Downloading package wordnet to\n",
      "[nltk_data]     /home/users/mabdelaal/nltk_data...\n",
      "[nltk_data]   Package wordnet is already up-to-date!\n"
     ]
    }
   ],
   "source": [
    "import os\n",
    "import shutil\n",
    "import xml.etree.ElementTree as ET\n",
    "from nltk.corpus import wordnet\n",
    "from nltk.tokenize import word_tokenize\n",
    "from deep_translator import GoogleTranslator\n",
    "import nltk\n",
    "\n",
    "nltk.download(\"punkt\")\n",
    "nltk.download(\"wordnet\")\n",
    "\n",
    "# === CONFIG ===\n",
    "SOURCE_LANG = 'de'\n",
    "MID_LANG = 'fr'\n"
   ]
  },
  {
   "cell_type": "code",
   "execution_count": 14,
   "id": "eed643f8-78ea-40d2-83c8-6d62ccb3e249",
   "metadata": {},
   "outputs": [],
   "source": [
    "def synonym_replacement(text, p=0.4):\n",
    "    words = word_tokenize(text)\n",
    "    new_words = []\n",
    "    for word in words:\n",
    "        if word.isalpha() and random.random() < p:\n",
    "            syns = wordnet.synsets(word)\n",
    "            if syns:\n",
    "                lemmas = syns[0].lemmas()\n",
    "                if lemmas:\n",
    "                    synonym = lemmas[0].name().replace('_', ' ')\n",
    "                    new_words.append(synonym)\n",
    "                    continue\n",
    "        new_words.append(word)\n",
    "    return ' '.join(new_words)\n",
    "\n",
    "def random_deletion(text, p=0.2):\n",
    "    words = word_tokenize(text)\n",
    "    if len(words) <= 1:\n",
    "        return text\n",
    "    kept_words = [word for word in words if random.random() > p]\n",
    "    return ' '.join(kept_words) if kept_words else random.choice(words)\n",
    "\n",
    "def random_swap(text, n=2):\n",
    "    words = word_tokenize(text)\n",
    "    for _ in range(n):\n",
    "        if len(words) < 2:\n",
    "            break\n",
    "        i, j = random.sample(range(len(words)), 2)\n",
    "        words[i], words[j] = words[j], words[i]\n",
    "    return ' '.join(words)\n",
    "\n",
    "def back_translation(text, src=SOURCE_LANG, mid=MID_LANG):\n",
    "    try:\n",
    "        translated = GoogleTranslator(source=src, target=mid).translate(text)\n",
    "        back_translated = GoogleTranslator(source=mid, target=src).translate(translated)\n",
    "        return back_translated\n",
    "    except Exception as e:\n",
    "        print(f\"[Back-translation failed] {e}\")\n",
    "        return text"
   ]
  },
  {
   "cell_type": "code",
   "execution_count": 15,
   "id": "eed259d0-a392-4981-a676-a5361dc40181",
   "metadata": {},
   "outputs": [],
   "source": [
    "def augment_file(filepath, output_dir, method_name, augment_func):\n",
    "    tree = ET.parse(filepath)\n",
    "    root = tree.getroot()\n",
    "\n",
    "    for seg in root.findall(\".//segment\"):\n",
    "        if seg.text:\n",
    "            original = seg.text.strip()\n",
    "            seg.text = augment_func(original)\n",
    "\n",
    "    base_name, ext = os.path.splitext(os.path.basename(filepath))\n",
    "    new_filename = f\"{base_name}_{method_name}{ext}\"\n",
    "    new_path = os.path.join(output_dir, new_filename)\n",
    "    tree.write(new_path, encoding='utf-8', xml_declaration=True)\n",
    "\n"
   ]
  },
  {
   "cell_type": "code",
   "execution_count": 16,
   "id": "c289ed8e-9856-4b26-ba1b-3923b754e67f",
   "metadata": {},
   "outputs": [],
   "source": [
    "def process_directory(input_dir):\n",
    "    output_dir = os.path.join(input_dir, \"pcc_augmented\")\n",
    "    os.makedirs(output_dir, exist_ok=True)\n",
    "\n",
    "    methods = {\n",
    "        \"synonym\": synonym_replacement,\n",
    "        \"deletion\": random_deletion,\n",
    "        \"swap\": random_swap,\n",
    "        \"backtranslation\": back_translation\n",
    "    }\n",
    "\n",
    "    for filename in os.listdir(input_dir):\n",
    "        if filename.endswith(\".rs3\"):\n",
    "            file_path = os.path.join(input_dir, filename)\n",
    "\n",
    "            # Save original to augmented folder\n",
    "            shutil.copy2(file_path, os.path.join(output_dir, filename))\n",
    "\n",
    "            # Apply each method separately\n",
    "            for method_name, func in methods.items():\n",
    "                augment_file(file_path, output_dir, method_name, func)"
   ]
  },
  {
   "cell_type": "code",
   "execution_count": 17,
   "id": "253176c6-4f09-4fe7-9801-e09618c86a51",
   "metadata": {},
   "outputs": [
    {
     "name": "stdout",
     "output_type": "stream",
     "text": [
      "[Back-translation failed] also man --> No translation was found using the current translator. Try another translator?\n",
      "[Back-translation failed] pour transformer les leçons scolaires en 21e siècle. <\\ Par_a8> --> No translation was found using the current translator. Try another translator?\n",
      "[Back-translation failed] S2: Ist auch Tatortkommissar gewesen oder immer noch . --> No translation was found using the current translator. Try another translator?\n",
      "[Back-translation failed] S1: Je ne les connais pas! --> No translation was found using the current translator. Try another translator?\n",
      "[Back-translation failed] S2: C'est un privilège, c'est un privilège! --> No translation was found using the current translator. Try another translator?\n",
      "[Back-translation failed] HTTPSConnectionPool(host='translate.google.com', port=443): Max retries exceeded with url: /m?tl=fr&sl=de&q=und+vielleicht+auch+noch+freundlich+gucken+%2C (Caused by NameResolutionError(\"<urllib3.connection.HTTPSConnection object at 0x7f8e1b234190>: Failed to resolve 'translate.google.com' ([Errno -2] Name or service not known)\"))\n",
      "[Back-translation failed] Cela se révèle être un pack de tartins. --> No translation was found using the current translator. Try another translator?\n",
      "[Back-translation failed] Mais seulement la moitié de la bataille --> No translation was found using the current translator. Try another translator?\n",
      "[Back-translation failed] - donc ils sont très rares -, --> No translation was found using the current translator. Try another translator?\n",
      "[Back-translation failed] <Ar_A1> 5 G - La cinquième génération de communications mobiles et de successeurs de 4 g (LTE) révolutionne les communications mobiles --> No translation was found using the current translator. Try another translator?\n",
      "[Back-translation failed] Einerseits sind ... --> No translation was found using the current translator. Try another translator?\n",
      "[Back-translation failed] Es kam also eher aus dem medizinischen Bereich --> No translation was found using the current translator. Try another translator?\n",
      "[Back-translation failed] S4: Alors, ce qui est très important --> No translation was found using the current translator. Try another translator?\n"
     ]
    }
   ],
   "source": [
    "folder_path = \"data/pcc-main/rs3_no_aug\"  # ← Change this\n",
    "process_directory(folder_path)"
   ]
  },
  {
   "cell_type": "code",
   "execution_count": null,
   "id": "e298c93b-7fc6-4dac-b072-db03b9d66967",
   "metadata": {},
   "outputs": [],
   "source": []
  }
 ],
 "metadata": {
  "kernelspec": {
   "display_name": "Python 3 (ipykernel)",
   "language": "python",
   "name": "python3"
  },
  "language_info": {
   "codemirror_mode": {
    "name": "ipython",
    "version": 3
   },
   "file_extension": ".py",
   "mimetype": "text/x-python",
   "name": "python",
   "nbconvert_exporter": "python",
   "pygments_lexer": "ipython3",
   "version": "3.13.5"
  }
 },
 "nbformat": 4,
 "nbformat_minor": 5
}
